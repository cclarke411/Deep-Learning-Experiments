{
  "nbformat": 4,
  "nbformat_minor": 0,
  "metadata": {
    "colab": {
      "name": "parameteroptimization1.ipynb",
      "version": "0.3.2",
      "provenance": [],
      "collapsed_sections": [],
      "machine_shape": "hm",
      "include_colab_link": true
    },
    "kernelspec": {
      "name": "python3",
      "display_name": "Python 3"
    },
    "accelerator": "GPU"
  },
  "cells": [
    {
      "cell_type": "markdown",
      "metadata": {
        "id": "view-in-github",
        "colab_type": "text"
      },
      "source": [
        "<a href=\"https://colab.research.google.com/github/cclarke411/Deep-Learning-Experiments/blob/master/parameteroptimization1.ipynb\" target=\"_parent\"><img src=\"https://colab.research.google.com/assets/colab-badge.svg\" alt=\"Open In Colab\"/></a>"
      ]
    },
    {
      "cell_type": "code",
      "metadata": {
        "id": "K7CxtsZVzy8D",
        "colab_type": "code",
        "outputId": "7a26bc68-d97e-48af-e6a8-93d1fd6aa446",
        "colab": {
          "base_uri": "https://localhost:8080/",
          "height": 34
        }
      },
      "source": [
        "from __future__ import print_function\n",
        "import numpy as np\n",
        "\n",
        "from hyperopt import Trials, STATUS_OK, tpe\n",
        "from keras.datasets import mnist\n",
        "from keras.layers.core import Dense, Dropout, Activation\n",
        "from keras.models import Sequential\n",
        "from keras.utils import np_utils\n",
        "from keras.models import Sequential\n",
        "from keras.utils  import to_categorical\n",
        "from keras import losses, models, optimizers\n",
        "from keras.layers import  Dense,Conv2D,Flatten,MaxPooling2D,Dropout,Activation,GaussianNoise,BatchNormalization,LeakyReLU,AveragePooling2D\n",
        "from keras import regularizers, optimizers\n",
        "from keras.activations import relu, softmax\n",
        "from keras.layers import Input,GlobalMaxPool1D,MaxPool1D\n",
        "from keras.layers import Convolution1D\n",
        "from hyperas import optim\n",
        "from hyperas.distributions import choice, uniform\n",
        "import os\n",
        "from sklearn.model_selection import train_test_split\n",
        "\n"
      ],
      "execution_count": 0,
      "outputs": [
        {
          "output_type": "stream",
          "text": [
            "Using TensorFlow backend.\n"
          ],
          "name": "stderr"
        }
      ]
    },
    {
      "cell_type": "code",
      "metadata": {
        "id": "biCNhyQqydvP",
        "colab_type": "code",
        "colab": {}
      },
      "source": [
        "!pip install hyperas\n",
        "!pip install hyperopt"
      ],
      "execution_count": 0,
      "outputs": []
    },
    {
      "cell_type": "code",
      "metadata": {
        "id": "-FokHe0D48zh",
        "colab_type": "code",
        "outputId": "3f63baa1-0cc2-4571-c802-06a281edb9e7",
        "colab": {
          "base_uri": "https://localhost:8080/",
          "height": 125
        }
      },
      "source": [
        "from google.colab import drive\n",
        "drive.mount('/content/drive')"
      ],
      "execution_count": 0,
      "outputs": [
        {
          "output_type": "stream",
          "text": [
            "Go to this URL in a browser: https://accounts.google.com/o/oauth2/auth?client_id=947318989803-6bn6qk8qdgf4n4g3pfee6491hc0brc4i.apps.googleusercontent.com&redirect_uri=urn%3Aietf%3Awg%3Aoauth%3A2.0%3Aoob&scope=email%20https%3A%2F%2Fwww.googleapis.com%2Fauth%2Fdocs.test%20https%3A%2F%2Fwww.googleapis.com%2Fauth%2Fdrive%20https%3A%2F%2Fwww.googleapis.com%2Fauth%2Fdrive.photos.readonly%20https%3A%2F%2Fwww.googleapis.com%2Fauth%2Fpeopleapi.readonly&response_type=code\n",
            "\n",
            "Enter your authorization code:\n",
            "··········\n",
            "Mounted at /content/drive\n"
          ],
          "name": "stdout"
        }
      ]
    },
    {
      "cell_type": "code",
      "metadata": {
        "id": "nbBcGcv5zJ2G",
        "colab_type": "code",
        "colab": {}
      },
      "source": [
        "# See: https://stackoverflow.com/questions/49920031/get-the-path-of-the-notebook-on-google-colab\n",
        "# Install the PyDrive wrapper & import libraries.\n",
        "!pip install -U -q PyDrive\n",
        "from pydrive.auth import GoogleAuth\n",
        "from pydrive.drive import GoogleDrive\n",
        "from google.colab import auth\n",
        "from oauth2client.client import GoogleCredentials\n",
        "\n",
        "# Authenticate and create the PyDrive client.\n",
        "auth.authenticate_user()\n",
        "gauth = GoogleAuth()\n",
        "gauth.credentials = GoogleCredentials.get_application_default()\n",
        "drive = GoogleDrive(gauth)\n",
        "\n",
        "# Copy/download the file\n",
        "fid = drive.ListFile({'q':\"title='parameteroptimization1.ipynb'\"}).GetList()[0]['id']\n",
        "f = drive.CreateFile({'id': fid})\n",
        "f.GetContentFile('parameteroptimization1.ipynb')"
      ],
      "execution_count": 0,
      "outputs": []
    },
    {
      "cell_type": "code",
      "metadata": {
        "id": "UlcBtDmn1AB4",
        "colab_type": "code",
        "colab": {}
      },
      "source": [
        "save_path = '/content/drive/My Drive/Speech1'\n",
        "os.chdir(save_path)"
      ],
      "execution_count": 0,
      "outputs": []
    },
    {
      "cell_type": "code",
      "metadata": {
        "id": "DJPhoAUv5kJs",
        "colab_type": "code",
        "colab": {}
      },
      "source": [
        "NM_test   = np.load('NM_test.npy')\n",
        "NM_train  = np.load('NM_train.npy')\n",
        "NMy_test1 = np.load('NMy_test1.npy')\n",
        "NMy_train1= np.load('NMy_train1.npy')"
      ],
      "execution_count": 0,
      "outputs": []
    },
    {
      "cell_type": "code",
      "metadata": {
        "id": "hciOKfPhLFO6",
        "colab_type": "code",
        "outputId": "0b459677-a770-4abc-8804-67c79fc695d3",
        "colab": {
          "base_uri": "https://localhost:8080/",
          "height": 34
        }
      },
      "source": [
        "NM_test.shape"
      ],
      "execution_count": 0,
      "outputs": [
        {
          "output_type": "execute_result",
          "data": {
            "text/plain": [
              "(5450, 128, 87, 1)"
            ]
          },
          "metadata": {
            "tags": []
          },
          "execution_count": 39
        }
      ]
    },
    {
      "cell_type": "code",
      "metadata": {
        "id": "niNofgjJLAHq",
        "colab_type": "code",
        "outputId": "1f226db6-cb50-47e5-b857-99a43a617903",
        "colab": {
          "base_uri": "https://localhost:8080/",
          "height": 34
        }
      },
      "source": [
        "from shutil import copyfile\n",
        "copyfile('/content/drive/My Drive/Speech1/NM_test.npy', '/content/NM_test.npy')\n",
        "copyfile('/content/drive/My Drive/Speech1/NM_train.npy', '/content/NM_train.npy')\n",
        "copyfile('/content/drive/My Drive/Speech1/NMy_test1.npy', '/content/NMy_test1.npy')\n",
        "copyfile('/content/drive/My Drive/Speech1/NMy_train1.npy', '/content/NMy_train1.npy')\n"
      ],
      "execution_count": 0,
      "outputs": [
        {
          "output_type": "execute_result",
          "data": {
            "text/plain": [
              "'/content/NMy_train1.npy'"
            ]
          },
          "metadata": {
            "tags": []
          },
          "execution_count": 5
        }
      ]
    },
    {
      "cell_type": "code",
      "metadata": {
        "id": "PWcbYbdNWKPO",
        "colab_type": "code",
        "outputId": "50db485c-e317-4c61-9a64-36d3fbd0fcf6",
        "colab": {
          "base_uri": "https://localhost:8080/",
          "height": 34
        }
      },
      "source": [
        "copyfile('/content/drive/My Drive/Speech1/y_mfccs,target.npy','/content/y_data.npy')"
      ],
      "execution_count": 0,
      "outputs": [
        {
          "output_type": "execute_result",
          "data": {
            "text/plain": [
              "'/content/y_data.npy'"
            ]
          },
          "metadata": {
            "tags": []
          },
          "execution_count": 6
        }
      ]
    },
    {
      "cell_type": "code",
      "metadata": {
        "id": "s_s0VD4WXkCQ",
        "colab_type": "code",
        "outputId": "7840417d-c466-489a-962f-5c3552f47852",
        "colab": {
          "base_uri": "https://localhost:8080/",
          "height": 34
        }
      },
      "source": [
        "copyfile('/content/drive/My Drive/Speech1/y_mfccs_labels.npy','/content/yp.npy')"
      ],
      "execution_count": 0,
      "outputs": [
        {
          "output_type": "execute_result",
          "data": {
            "text/plain": [
              "'/content/yp.npy'"
            ]
          },
          "metadata": {
            "tags": []
          },
          "execution_count": 7
        }
      ]
    },
    {
      "cell_type": "code",
      "metadata": {
        "id": "XwbURHXM6Jr-",
        "colab_type": "code",
        "colab": {}
      },
      "source": [
        "y_data = np.load('y_data.npy')\n",
        "yp = np.load('yp.npy')\n",
        "\n",
        "data_1D = np.expand_dims(y_data,axis = 2).reshape(13623,44100,1)\n",
        "NewX1D_train, NewX1D_test, Newy1D_train, Newy1D_test = train_test_split(data_1D, to_categorical(yp), test_size=0.5, shuffle = True)\n",
        "X_train = NewX1D_train\n",
        "Y_train = Newy1D_train\n",
        "X_test = NewX1D_test\n",
        "Y_test = Newy1D_test\n",
        "\n"
      ],
      "execution_count": 0,
      "outputs": []
    },
    {
      "cell_type": "code",
      "metadata": {
        "id": "uhr855QlaT6Z",
        "colab_type": "code",
        "colab": {}
      },
      "source": [
        "np.save('NewX1D_train.npy',NewX1D_train)\n",
        "np.save('NewX1D_test.npy',NewX1D_test)\n",
        "np.save('Newy1D_train.npy',Newy1D_train)\n",
        "np.save('Newy1D_test.npy',Newy1D_test)"
      ],
      "execution_count": 0,
      "outputs": []
    },
    {
      "cell_type": "code",
      "metadata": {
        "id": "BXWClVPjc5QP",
        "colab_type": "code",
        "outputId": "1e80ca56-4f74-408a-f3e7-17370bb2d0a5",
        "colab": {
          "base_uri": "https://localhost:8080/",
          "height": 34
        }
      },
      "source": [
        "Y_train.shape"
      ],
      "execution_count": 0,
      "outputs": [
        {
          "output_type": "execute_result",
          "data": {
            "text/plain": [
              "(6811, 30)"
            ]
          },
          "metadata": {
            "tags": []
          },
          "execution_count": 78
        }
      ]
    },
    {
      "cell_type": "code",
      "metadata": {
        "id": "OXDGYu2eyk6_",
        "colab_type": "code",
        "colab": {}
      },
      "source": [
        "def data_1d():\n",
        "  X_train = np.load('NewX1D_train.npy')\n",
        "  Y_train = np.load('Newy1D_train.npy')\n",
        "  X_test = np.load('NewX1D_test.npy')\n",
        "  Y_test = np.load('Newy1D_train.npy')\n",
        "  X_test = X_test[0:6811]\n",
        "  Y_test = Y_test[0:6811]\n",
        "  return X_train, Y_train, X_test, Y_test"
      ],
      "execution_count": 0,
      "outputs": []
    },
    {
      "cell_type": "code",
      "metadata": {
        "id": "XYX-ylT87XpX",
        "colab_type": "code",
        "colab": {}
      },
      "source": [
        "def conv_1d_model(X_train, Y_train, X_test, Y_test):\n",
        "    nclass=30\n",
        "    model = Sequential()\n",
        "    model.add(Convolution1D(1,16, activation=relu, padding=\"valid\",input_shape=(44100,1)))\n",
        "    model.add(Convolution1D(1,16, activation=relu, padding=\"valid\"))\n",
        "    model.add(BatchNormalization())\n",
        "    model.add(MaxPool1D(16))\n",
        "    model.add(Dropout({{uniform(0, 1)}}))\n",
        "    \n",
        "    model.add(Convolution1D(1,32, activation=relu, padding=\"valid\"))\n",
        "    model.add(Convolution1D(1,32, activation=relu, padding=\"valid\"))\n",
        "    model.add(BatchNormalization())\n",
        "    model.add(MaxPool1D(4))\n",
        "    model.add(Dropout({{uniform(0, 1)}}))\n",
        "    \n",
        "    model.add(Convolution1D(1,32, activation=relu, padding=\"valid\"))\n",
        "    model.add(Convolution1D(1,32, activation=relu, padding=\"valid\"))\n",
        "    model.add(MaxPool1D(4))\n",
        "    model.add(Dropout(rate=0.1))\n",
        "    \n",
        "    model.add(Convolution1D(1,32, activation=relu, padding=\"valid\"))\n",
        "    model.add(Convolution1D(1,32, activation=relu, padding=\"valid\"))\n",
        "    model.add(BatchNormalization())\n",
        "    model.add(GlobalMaxPool1D())\n",
        "    model.add(Dropout({{uniform(0, 1)}}))\n",
        "\n",
        "    model.add(Dense({{choice([64, 128, 256])}}, activation=relu))\n",
        "    model.add(Dense({{choice([64, 128, 256])}}, activation=relu))\n",
        "    model.add(Dense(nclass, activation=softmax))\n",
        "    \n",
        "    model.compile(loss='binary_crossentropy',\n",
        "                  optimizer={{choice(['rmsprop', 'adam', 'sgd'])}},\n",
        "                  metrics=['accuracy'])\n",
        "\n",
        "    model.fit(X_train, Y_train,\n",
        "              batch_size={{choice([64, 128])}},\n",
        "              nb_epoch=10,\n",
        "              verbose=2,\n",
        "              validation_data=(X_test, Y_test))\n",
        "    score, acc = model.evaluate(X_test, Y_test, verbose=0)\n",
        "    print('Test accuracy:', acc)\n",
        "    return {'loss': -acc, 'status': STATUS_OK, 'model': model}"
      ],
      "execution_count": 0,
      "outputs": []
    },
    {
      "cell_type": "code",
      "metadata": {
        "id": "_-F9BHpcLM6_",
        "colab_type": "code",
        "colab": {}
      },
      "source": [
        "def data_2d():\n",
        "  X_train = np.load('NM_train.npy')\n",
        "  Y_train = np.load('NMy_train1.npy')\n",
        "  X_test = np.load('NM_test.npy')\n",
        "  Y_test = np.load('NMy_test1.npy')\n",
        "  X_test = X_test[0:5450]\n",
        "  Y_test = Y_test[0:5450]\n",
        "  return X_train, Y_train, X_test, Y_test"
      ],
      "execution_count": 0,
      "outputs": []
    },
    {
      "cell_type": "code",
      "metadata": {
        "id": "shcq8LQeyvLf",
        "colab_type": "code",
        "colab": {}
      },
      "source": [
        "def conv_2d_model(X_train, Y_train, X_test, Y_test):\n",
        "\n",
        "    model = Sequential()\n",
        "    #add model layers\n",
        "    model.add(Conv2D({{choice([64, 128, 256])}}, kernel_size={{choice([2, 3, 5])}}, activation='relu', input_shape=(128 ,87,1)))\n",
        "    model.add(BatchNormalization())\n",
        "    model.add(Conv2D({{choice([32, 64, 128])}}, kernel_size=3, activation= 'relu'))\n",
        "    model.add(BatchNormalization())\n",
        "    model.add(Conv2D({{choice([16, 32, 64])}}, kernel_size=3, activation= 'relu'))\n",
        "    model.add(BatchNormalization())\n",
        "    model.add(Flatten())\n",
        "    model.add(Dense(30, activation='softmax'))\n",
        "\n",
        "    #compile model using accuracy to measure model performance\n",
        "\n",
        "    model.compile(loss='binary_crossentropy',\n",
        "                  optimizer={{choice(['rmsprop', 'adam', 'sgd'])}},\n",
        "                  metrics=['accuracy'])\n",
        "\n",
        "    model.fit(X_train, Y_train,\n",
        "              batch_size={{choice([64, 128])}},\n",
        "              nb_epoch=10,\n",
        "              verbose=2,\n",
        "              validation_data=(X_test, Y_test))\n",
        "    score, acc = model.evaluate(X_test, Y_test, verbose=0)\n",
        "    print('Test accuracy:', acc)\n",
        "    return {'loss': -acc, 'status': STATUS_OK, 'model': model}"
      ],
      "execution_count": 0,
      "outputs": []
    },
    {
      "cell_type": "code",
      "metadata": {
        "id": "9D7xW8Ozznp_",
        "colab_type": "code",
        "outputId": "87f5930f-b556-47f4-fd1c-92c62fc39623",
        "colab": {
          "base_uri": "https://localhost:8080/",
          "height": 1000
        }
      },
      "source": [
        "best_run, best_model = optim.minimize(model=conv_1d_model,\n",
        "                                          data=data_1d,\n",
        "                                          max_evals=10,\n",
        "                                          algo=tpe.suggest,\n",
        "                                          notebook_name='parameteroptimization1', # This is important!\n",
        "                                          trials=Trials())"
      ],
      "execution_count": 0,
      "outputs": [
        {
          "output_type": "stream",
          "text": [
            ">>> Imports:\n",
            "#coding=utf-8\n",
            "\n",
            "from __future__ import print_function\n",
            "\n",
            "try:\n",
            "    import numpy as np\n",
            "except:\n",
            "    pass\n",
            "\n",
            "try:\n",
            "    from hyperopt import Trials, STATUS_OK, tpe\n",
            "except:\n",
            "    pass\n",
            "\n",
            "try:\n",
            "    from keras.datasets import mnist\n",
            "except:\n",
            "    pass\n",
            "\n",
            "try:\n",
            "    from keras.layers.core import Dense, Dropout, Activation\n",
            "except:\n",
            "    pass\n",
            "\n",
            "try:\n",
            "    from keras.models import Sequential\n",
            "except:\n",
            "    pass\n",
            "\n",
            "try:\n",
            "    from keras.utils import np_utils\n",
            "except:\n",
            "    pass\n",
            "\n",
            "try:\n",
            "    from keras.models import Sequential\n",
            "except:\n",
            "    pass\n",
            "\n",
            "try:\n",
            "    from keras.utils import to_categorical\n",
            "except:\n",
            "    pass\n",
            "\n",
            "try:\n",
            "    from keras import losses, models, optimizers\n",
            "except:\n",
            "    pass\n",
            "\n",
            "try:\n",
            "    from keras.layers import Dense, Conv2D, Flatten, MaxPooling2D, Dropout, Activation, GaussianNoise, BatchNormalization, LeakyReLU, AveragePooling2D\n",
            "except:\n",
            "    pass\n",
            "\n",
            "try:\n",
            "    from keras import regularizers, optimizers\n",
            "except:\n",
            "    pass\n",
            "\n",
            "try:\n",
            "    from keras.activations import relu, softmax\n",
            "except:\n",
            "    pass\n",
            "\n",
            "try:\n",
            "    from keras.layers import Input, GlobalMaxPool1D, MaxPool1D\n",
            "except:\n",
            "    pass\n",
            "\n",
            "try:\n",
            "    from keras.layers import Convolution1D\n",
            "except:\n",
            "    pass\n",
            "\n",
            "try:\n",
            "    from hyperas import optim\n",
            "except:\n",
            "    pass\n",
            "\n",
            "try:\n",
            "    from hyperas.distributions import choice, uniform\n",
            "except:\n",
            "    pass\n",
            "\n",
            "try:\n",
            "    import os\n",
            "except:\n",
            "    pass\n",
            "\n",
            "try:\n",
            "    from sklearn.model_selection import train_test_split\n",
            "except:\n",
            "    pass\n",
            "\n",
            "try:\n",
            "    from google.colab import drive\n",
            "except:\n",
            "    pass\n",
            "\n",
            "try:\n",
            "    from pydrive.auth import GoogleAuth\n",
            "except:\n",
            "    pass\n",
            "\n",
            "try:\n",
            "    from pydrive.drive import GoogleDrive\n",
            "except:\n",
            "    pass\n",
            "\n",
            "try:\n",
            "    from google.colab import auth\n",
            "except:\n",
            "    pass\n",
            "\n",
            "try:\n",
            "    from oauth2client.client import GoogleCredentials\n",
            "except:\n",
            "    pass\n",
            "\n",
            "try:\n",
            "    from shutil import copyfile\n",
            "except:\n",
            "    pass\n",
            "\n",
            ">>> Hyperas search space:\n",
            "\n",
            "def get_space():\n",
            "    return {\n",
            "        'Dropout': hp.uniform('Dropout', 0, 1),\n",
            "        'Dropout_1': hp.uniform('Dropout_1', 0, 1),\n",
            "        'Dropout_2': hp.uniform('Dropout_2', 0, 1),\n",
            "        'Dense': hp.choice('Dense', [64, 128, 256]),\n",
            "        'Dense_1': hp.choice('Dense_1', [64, 128, 256]),\n",
            "        'optimizer': hp.choice('optimizer', ['rmsprop', 'adam', 'sgd']),\n",
            "        'batch_size': hp.choice('batch_size', [64, 128]),\n",
            "    }\n",
            "\n",
            ">>> Data\n",
            "  1: \n",
            "  2: X_train = np.load('NewX1D_train.npy')\n",
            "  3: Y_train = np.load('Newy1D_train.npy')\n",
            "  4: X_test = np.load('NewX1D_test.npy')\n",
            "  5: Y_test = np.load('Newy1D_train.npy')\n",
            "  6: X_test = X_test[0:6811]\n",
            "  7: Y_test = Y_test[0:6811]\n",
            "  8: \n",
            "  9: \n",
            " 10: \n",
            ">>> Resulting replaced keras model:\n",
            "\n",
            "   1: def keras_fmin_fnct(space):\n",
            "   2: \n",
            "   3:     nclass=30\n",
            "   4:     model = Sequential()\n",
            "   5:     model.add(Convolution1D(1,16, activation=relu, padding=\"valid\",input_shape=(44100,1)))\n",
            "   6:     model.add(Convolution1D(1,16, activation=relu, padding=\"valid\"))\n",
            "   7:     model.add(BatchNormalization())\n",
            "   8:     model.add(MaxPool1D(16))\n",
            "   9:     model.add(Dropout(space['Dropout']))\n",
            "  10:     \n",
            "  11:     model.add(Convolution1D(1,32, activation=relu, padding=\"valid\"))\n",
            "  12:     model.add(Convolution1D(1,32, activation=relu, padding=\"valid\"))\n",
            "  13:     model.add(BatchNormalization())\n",
            "  14:     model.add(MaxPool1D(4))\n",
            "  15:     model.add(Dropout(space['Dropout_1']))\n",
            "  16:     \n",
            "  17:     model.add(Convolution1D(1,32, activation=relu, padding=\"valid\"))\n",
            "  18:     model.add(Convolution1D(1,32, activation=relu, padding=\"valid\"))\n",
            "  19:     model.add(MaxPool1D(4))\n",
            "  20:     model.add(Dropout(rate=0.1))\n",
            "  21:     \n",
            "  22:     model.add(Convolution1D(1,32, activation=relu, padding=\"valid\"))\n",
            "  23:     model.add(Convolution1D(1,32, activation=relu, padding=\"valid\"))\n",
            "  24:     model.add(BatchNormalization())\n",
            "  25:     model.add(GlobalMaxPool1D())\n",
            "  26:     model.add(Dropout(space['Dropout_2']))\n",
            "  27: \n",
            "  28:     model.add(Dense(space['Dense'], activation=relu))\n",
            "  29:     model.add(Dense(space['Dense_1'], activation=relu))\n",
            "  30:     model.add(Dense(nclass, activation=softmax))\n",
            "  31:     \n",
            "  32:     model.compile(loss='binary_crossentropy',\n",
            "  33:                   optimizer=space['optimizer'],\n",
            "  34:                   metrics=['accuracy'])\n",
            "  35: \n",
            "  36:     model.fit(X_train, Y_train,\n",
            "  37:               batch_size=space['batch_size'],\n",
            "  38:               nb_epoch=10,\n",
            "  39:               verbose=2,\n",
            "  40:               validation_data=(X_test, Y_test))\n",
            "  41:     score, acc = model.evaluate(X_test, Y_test, verbose=0)\n",
            "  42:     print('Test accuracy:', acc)\n",
            "  43:     return {'loss': -acc, 'status': STATUS_OK, 'model': model}\n",
            "  44: \n",
            "  0%|          | 0/10 [00:00<?, ?it/s, best loss: ?]WARNING:tensorflow:From /usr/local/lib/python3.6/dist-packages/keras/backend/tensorflow_backend.py:66: The name tf.get_default_graph is deprecated. Please use tf.compat.v1.get_default_graph instead.\n",
            "\n",
            "WARNING:tensorflow:From /usr/local/lib/python3.6/dist-packages/keras/backend/tensorflow_backend.py:541: The name tf.placeholder is deprecated. Please use tf.compat.v1.placeholder instead.\n",
            "\n",
            "WARNING:tensorflow:From /usr/local/lib/python3.6/dist-packages/keras/backend/tensorflow_backend.py:4432: The name tf.random_uniform is deprecated. Please use tf.random.uniform instead.\n",
            "\n",
            "WARNING:tensorflow:From /usr/local/lib/python3.6/dist-packages/keras/backend/tensorflow_backend.py:148: The name tf.placeholder_with_default is deprecated. Please use tf.compat.v1.placeholder_with_default instead.\n",
            "\n",
            "WARNING:tensorflow:From /usr/local/lib/python3.6/dist-packages/keras/backend/tensorflow_backend.py:4267: The name tf.nn.max_pool is deprecated. Please use tf.nn.max_pool2d instead.\n",
            "\n",
            "WARNING:tensorflow:From /usr/local/lib/python3.6/dist-packages/keras/backend/tensorflow_backend.py:3733: calling dropout (from tensorflow.python.ops.nn_ops) with keep_prob is deprecated and will be removed in a future version.\n",
            "Instructions for updating:\n",
            "Please use `rate` instead of `keep_prob`. Rate should be set to `rate = 1 - keep_prob`.\n",
            "WARNING:tensorflow:Large dropout rate: 0.610876 (>0.5). In TensorFlow 2.x, dropout() uses dropout rate instead of keep_prob. Please ensure that this is intended.\n",
            "WARNING:tensorflow:Large dropout rate: 0.73717 (>0.5). In TensorFlow 2.x, dropout() uses dropout rate instead of keep_prob. Please ensure that this is intended.\n",
            "WARNING:tensorflow:Large dropout rate: 0.651797 (>0.5). In TensorFlow 2.x, dropout() uses dropout rate instead of keep_prob. Please ensure that this is intended.\n",
            "WARNING:tensorflow:From /usr/local/lib/python3.6/dist-packages/keras/optimizers.py:793: The name tf.train.Optimizer is deprecated. Please use tf.compat.v1.train.Optimizer instead.\n",
            "\n",
            "WARNING:tensorflow:From /usr/local/lib/python3.6/dist-packages/keras/backend/tensorflow_backend.py:3657: The name tf.log is deprecated. Please use tf.math.log instead.\n",
            "\n",
            "WARNING:tensorflow:From /usr/local/lib/python3.6/dist-packages/tensorflow/python/ops/nn_impl.py:180: add_dispatch_support.<locals>.wrapper (from tensorflow.python.ops.array_ops) is deprecated and will be removed in a future version.\n",
            "Instructions for updating:\n",
            "Use tf.where in 2.0, which has the same broadcast rule as np.where\n"
          ],
          "name": "stdout"
        },
        {
          "output_type": "stream",
          "text": [
            "/content/temp_model.py:173: UserWarning: The `nb_epoch` argument in `fit` has been renamed `epochs`.\n",
            "  \n",
            "\n"
          ],
          "name": "stderr"
        },
        {
          "output_type": "stream",
          "text": [
            "Train on 6811 samples, validate on 6811 samples\n",
            "Epoch 1/10\n",
            " - 15s - loss: 0.1477 - acc: 0.9666 - val_loss: 0.1461 - val_acc: 0.9667\n",
            "\n",
            "Epoch 2/10\n",
            " - 7s - loss: 0.1473 - acc: 0.9667 - val_loss: 0.1461 - val_acc: 0.9667\n",
            "\n",
            "Epoch 3/10\n",
            " - 6s - loss: 0.1476 - acc: 0.9666 - val_loss: 0.1461 - val_acc: 0.9667\n",
            "\n",
            "Epoch 4/10\n",
            " - 7s - loss: 0.1474 - acc: 0.9667 - val_loss: 0.1461 - val_acc: 0.9667\n",
            "\n",
            "Epoch 5/10\n",
            " - 7s - loss: 0.1474 - acc: 0.9667 - val_loss: 0.1461 - val_acc: 0.9667\n",
            "\n",
            "Epoch 6/10\n",
            " - 7s - loss: 0.1470 - acc: 0.9667 - val_loss: 0.1461 - val_acc: 0.9667\n",
            "\n",
            "Epoch 7/10\n",
            " - 7s - loss: 0.1469 - acc: 0.9667 - val_loss: 0.1461 - val_acc: 0.9667\n",
            "\n",
            "Epoch 8/10\n",
            " - 7s - loss: 0.1470 - acc: 0.9667 - val_loss: 0.1461 - val_acc: 0.9667\n",
            "\n",
            "Epoch 9/10\n",
            " - 7s - loss: 0.1470 - acc: 0.9667 - val_loss: 0.1461 - val_acc: 0.9667\n",
            "\n",
            "Epoch 10/10\n",
            " - 7s - loss: 0.1468 - acc: 0.9667 - val_loss: 0.1461 - val_acc: 0.9667\n",
            "\n",
            "Test accuracy:\n",
            "0.9666666388511658\n",
            " 10%|█         | 1/10 [01:17<11:37, 77.53s/it, best loss: -0.9666666388511658]WARNING:tensorflow:Large dropout rate: 0.977001 (>0.5). In TensorFlow 2.x, dropout() uses dropout rate instead of keep_prob. Please ensure that this is intended.\n",
            "WARNING:tensorflow:Large dropout rate: 0.836667 (>0.5). In TensorFlow 2.x, dropout() uses dropout rate instead of keep_prob. Please ensure that this is intended.\n"
          ],
          "name": "stdout"
        },
        {
          "output_type": "stream",
          "text": [
            "/content/temp_model.py:173: UserWarning: The `nb_epoch` argument in `fit` has been renamed `epochs`.\n",
            "  \n",
            "\n"
          ],
          "name": "stderr"
        },
        {
          "output_type": "stream",
          "text": [
            "Train on 6811 samples, validate on 6811 samples\n",
            "Epoch 1/10\n",
            " - 9s - loss: 0.1487 - acc: 0.9665 - val_loss: 0.1461 - val_acc: 0.9667\n",
            "\n",
            "Epoch 2/10\n",
            " - 7s - loss: 0.1472 - acc: 0.9666 - val_loss: 0.1461 - val_acc: 0.9667\n",
            "\n",
            "Epoch 3/10\n",
            " - 7s - loss: 0.1466 - acc: 0.9666 - val_loss: 0.1461 - val_acc: 0.9667\n",
            "\n",
            "Epoch 4/10\n",
            " - 7s - loss: 0.1464 - acc: 0.9666 - val_loss: 0.1461 - val_acc: 0.9667\n",
            "\n",
            "Epoch 5/10\n",
            " - 7s - loss: 0.1463 - acc: 0.9666 - val_loss: 0.1461 - val_acc: 0.9667\n",
            "\n",
            "Epoch 6/10\n",
            " - 7s - loss: 0.1462 - acc: 0.9667 - val_loss: 0.1461 - val_acc: 0.9667\n",
            "\n",
            "Epoch 7/10\n",
            " - 7s - loss: 0.1462 - acc: 0.9667 - val_loss: 0.1461 - val_acc: 0.9667\n",
            "\n",
            "Epoch 8/10\n",
            " - 7s - loss: 0.1461 - acc: 0.9667 - val_loss: 0.1461 - val_acc: 0.9667\n",
            "\n",
            "Epoch 9/10\n",
            " - 7s - loss: 0.1461 - acc: 0.9667 - val_loss: 0.1461 - val_acc: 0.9667\n",
            "\n",
            "Epoch 10/10\n",
            " - 7s - loss: 0.1461 - acc: 0.9667 - val_loss: 0.1461 - val_acc: 0.9667\n",
            "\n",
            "Test accuracy:\n",
            "0.9666666388511658\n",
            " 20%|██        | 2/10 [02:35<10:20, 77.61s/it, best loss: -0.9666666388511658]"
          ],
          "name": "stdout"
        },
        {
          "output_type": "stream",
          "text": [
            "/content/temp_model.py:173: UserWarning: The `nb_epoch` argument in `fit` has been renamed `epochs`.\n",
            "  \n",
            "\n"
          ],
          "name": "stderr"
        },
        {
          "output_type": "stream",
          "text": [
            "Train on 6811 samples, validate on 6811 samples\n",
            "Epoch 1/10\n",
            " - 10s - loss: 0.1464 - acc: 0.9667 - val_loss: 0.1462 - val_acc: 0.9667\n",
            "\n",
            "Epoch 2/10\n",
            " - 7s - loss: 0.1461 - acc: 0.9667 - val_loss: 0.1462 - val_acc: 0.9667\n",
            "\n",
            "Epoch 3/10\n",
            " - 7s - loss: 0.1460 - acc: 0.9667 - val_loss: 0.1462 - val_acc: 0.9667\n",
            "\n",
            "Epoch 4/10\n",
            " - 7s - loss: 0.1457 - acc: 0.9667 - val_loss: 0.1463 - val_acc: 0.9667\n",
            "\n",
            "Epoch 5/10\n",
            " - 7s - loss: 0.1455 - acc: 0.9667 - val_loss: 0.1464 - val_acc: 0.9667\n",
            "\n",
            "Epoch 6/10\n",
            " - 7s - loss: 0.1453 - acc: 0.9667 - val_loss: 0.1466 - val_acc: 0.9667\n",
            "\n",
            "Epoch 7/10\n",
            " - 7s - loss: 0.1452 - acc: 0.9667 - val_loss: 0.1468 - val_acc: 0.9667\n",
            "\n",
            "Epoch 8/10\n",
            " - 7s - loss: 0.1452 - acc: 0.9667 - val_loss: 0.1469 - val_acc: 0.9667\n",
            "\n",
            "Epoch 9/10\n",
            " - 7s - loss: 0.1448 - acc: 0.9667 - val_loss: 0.1466 - val_acc: 0.9667\n",
            "\n",
            "Epoch 10/10\n",
            " - 7s - loss: 0.1444 - acc: 0.9667 - val_loss: 0.1473 - val_acc: 0.9667\n",
            "\n",
            "Test accuracy:\n",
            "0.9666666388511658\n",
            " 30%|███       | 3/10 [03:55<09:09, 78.52s/it, best loss: -0.9666666388511658]"
          ],
          "name": "stdout"
        },
        {
          "output_type": "stream",
          "text": [
            "/content/temp_model.py:173: UserWarning: The `nb_epoch` argument in `fit` has been renamed `epochs`.\n",
            "  \n",
            "\n"
          ],
          "name": "stderr"
        },
        {
          "output_type": "stream",
          "text": [
            "Train on 6811 samples, validate on 6811 samples\n",
            "Epoch 1/10\n",
            " - 10s - loss: 0.1469 - acc: 0.9667 - val_loss: 0.1461 - val_acc: 0.9667\n",
            "\n",
            "Epoch 2/10\n",
            " - 7s - loss: 0.1460 - acc: 0.9667 - val_loss: 0.1461 - val_acc: 0.9667\n",
            "\n",
            "Epoch 3/10\n",
            " - 7s - loss: 0.1460 - acc: 0.9667 - val_loss: 0.1462 - val_acc: 0.9667\n",
            "\n",
            "Epoch 4/10\n",
            " - 7s - loss: 0.1459 - acc: 0.9667 - val_loss: 0.1462 - val_acc: 0.9667\n",
            "\n",
            "Epoch 5/10\n",
            " - 7s - loss: 0.1458 - acc: 0.9667 - val_loss: 0.1462 - val_acc: 0.9667\n",
            "\n",
            "Epoch 6/10\n",
            " - 7s - loss: 0.1457 - acc: 0.9667 - val_loss: 0.1462 - val_acc: 0.9667\n",
            "\n",
            "Epoch 7/10\n",
            " - 7s - loss: 0.1456 - acc: 0.9667 - val_loss: 0.1462 - val_acc: 0.9667\n",
            "\n",
            "Epoch 8/10\n",
            " - 7s - loss: 0.1456 - acc: 0.9667 - val_loss: 0.1462 - val_acc: 0.9667\n",
            "\n",
            "Epoch 9/10\n",
            " - 7s - loss: 0.1455 - acc: 0.9667 - val_loss: 0.1463 - val_acc: 0.9667\n",
            "\n",
            "Epoch 10/10\n",
            " - 7s - loss: 0.1455 - acc: 0.9667 - val_loss: 0.1463 - val_acc: 0.9667\n",
            "\n",
            "Test accuracy:\n",
            "0.9666666388511658\n",
            " 40%|████      | 4/10 [05:11<07:45, 77.63s/it, best loss: -0.9666666388511658]"
          ],
          "name": "stdout"
        },
        {
          "output_type": "stream",
          "text": [
            "/content/temp_model.py:173: UserWarning: The `nb_epoch` argument in `fit` has been renamed `epochs`.\n",
            "  \n",
            "\n"
          ],
          "name": "stderr"
        },
        {
          "output_type": "stream",
          "text": [
            "Train on 6811 samples, validate on 6811 samples\n",
            "Epoch 1/10\n",
            " - 10s - loss: 0.1462 - acc: 0.9667 - val_loss: 0.1464 - val_acc: 0.9667\n",
            "\n",
            "Epoch 2/10\n",
            " - 7s - loss: 0.1459 - acc: 0.9667 - val_loss: 0.1462 - val_acc: 0.9667\n",
            "\n",
            "Epoch 3/10\n",
            " - 7s - loss: 0.1459 - acc: 0.9667 - val_loss: 0.1463 - val_acc: 0.9667\n",
            "\n",
            "Epoch 4/10\n",
            " - 7s - loss: 0.1457 - acc: 0.9667 - val_loss: 0.1467 - val_acc: 0.9667\n",
            "\n",
            "Epoch 5/10\n",
            " - 7s - loss: 0.1456 - acc: 0.9667 - val_loss: 0.1471 - val_acc: 0.9667\n",
            "\n",
            "Epoch 6/10\n",
            " - 7s - loss: 0.1458 - acc: 0.9667 - val_loss: 0.1462 - val_acc: 0.9667\n",
            "\n",
            "Epoch 7/10\n",
            " - 7s - loss: 0.1459 - acc: 0.9667 - val_loss: 0.1465 - val_acc: 0.9667\n",
            "\n",
            "Epoch 8/10\n",
            " - 7s - loss: 0.1456 - acc: 0.9667 - val_loss: 0.1465 - val_acc: 0.9667\n",
            "\n",
            "Epoch 9/10\n",
            " - 7s - loss: 0.1456 - acc: 0.9667 - val_loss: 0.1467 - val_acc: 0.9667\n",
            "\n",
            "Epoch 10/10\n",
            " - 7s - loss: 0.1454 - acc: 0.9667 - val_loss: 0.1472 - val_acc: 0.9667\n",
            "\n",
            "Test accuracy:\n",
            "0.966661744601855\n",
            " 50%|█████     | 5/10 [06:26<06:24, 76.83s/it, best loss: -0.9666666388511658]"
          ],
          "name": "stdout"
        },
        {
          "output_type": "stream",
          "text": [
            "/content/temp_model.py:173: UserWarning: The `nb_epoch` argument in `fit` has been renamed `epochs`.\n",
            "  \n",
            "\n"
          ],
          "name": "stderr"
        },
        {
          "output_type": "stream",
          "text": [
            "Train on 6811 samples, validate on 6811 samples\n",
            "Epoch 1/10\n",
            " - 10s - loss: 0.1463 - acc: 0.9667 - val_loss: 0.1461 - val_acc: 0.9667\n",
            "\n",
            "Epoch 2/10\n",
            " - 7s - loss: 0.1461 - acc: 0.9667 - val_loss: 0.1461 - val_acc: 0.9667\n",
            "\n",
            "Epoch 3/10\n",
            " - 7s - loss: 0.1461 - acc: 0.9667 - val_loss: 0.1461 - val_acc: 0.9667\n",
            "\n",
            "Epoch 4/10\n",
            " - 7s - loss: 0.1461 - acc: 0.9667 - val_loss: 0.1461 - val_acc: 0.9667\n",
            "\n",
            "Epoch 5/10\n",
            " - 7s - loss: 0.1462 - acc: 0.9667 - val_loss: 0.1461 - val_acc: 0.9667\n",
            "\n",
            "Epoch 6/10\n",
            " - 7s - loss: 0.1461 - acc: 0.9667 - val_loss: 0.1461 - val_acc: 0.9667\n",
            "\n",
            "Epoch 7/10\n",
            " - 7s - loss: 0.1462 - acc: 0.9667 - val_loss: 0.1461 - val_acc: 0.9667\n",
            "\n",
            "Epoch 8/10\n",
            " - 7s - loss: 0.1462 - acc: 0.9667 - val_loss: 0.1461 - val_acc: 0.9667\n",
            "\n",
            "Epoch 9/10\n",
            " - 7s - loss: 0.1462 - acc: 0.9667 - val_loss: 0.1461 - val_acc: 0.9667\n",
            "\n",
            "Epoch 10/10\n",
            " - 7s - loss: 0.1461 - acc: 0.9667 - val_loss: 0.1461 - val_acc: 0.9667\n",
            "\n",
            "Test accuracy:\n",
            "0.9666666388511658\n",
            " 60%|██████    | 6/10 [07:40<05:03, 75.89s/it, best loss: -0.9666666388511658]"
          ],
          "name": "stdout"
        },
        {
          "output_type": "stream",
          "text": [
            "/content/temp_model.py:173: UserWarning: The `nb_epoch` argument in `fit` has been renamed `epochs`.\n",
            "  \n",
            "\n"
          ],
          "name": "stderr"
        },
        {
          "output_type": "stream",
          "text": [
            "Train on 6811 samples, validate on 6811 samples\n",
            "Epoch 1/10\n",
            " - 10s - loss: 0.1457 - acc: 0.9667 - val_loss: 0.1462 - val_acc: 0.9667\n",
            "\n",
            "Epoch 2/10\n",
            " - 7s - loss: 0.1449 - acc: 0.9666 - val_loss: 0.1466 - val_acc: 0.9667\n",
            "\n",
            "Epoch 3/10\n",
            " - 7s - loss: 0.1442 - acc: 0.9667 - val_loss: 0.1467 - val_acc: 0.9667\n",
            "\n",
            "Epoch 4/10\n",
            " - 7s - loss: 0.1438 - acc: 0.9666 - val_loss: 0.1473 - val_acc: 0.9667\n",
            "\n",
            "Epoch 5/10\n",
            " - 7s - loss: 0.1435 - acc: 0.9666 - val_loss: 0.1477 - val_acc: 0.9667\n",
            "\n",
            "Epoch 6/10\n",
            " - 7s - loss: 0.1431 - acc: 0.9666 - val_loss: 0.1482 - val_acc: 0.9667\n",
            "\n",
            "Epoch 7/10\n",
            " - 7s - loss: 0.1426 - acc: 0.9667 - val_loss: 0.1492 - val_acc: 0.9667\n",
            "\n",
            "Epoch 8/10\n",
            " - 7s - loss: 0.1420 - acc: 0.9667 - val_loss: 0.1489 - val_acc: 0.9667\n",
            "\n",
            "Epoch 9/10\n",
            " - 7s - loss: 0.1417 - acc: 0.9666 - val_loss: 0.1477 - val_acc: 0.9667\n",
            "\n",
            "Epoch 10/10\n",
            " - 7s - loss: 0.1406 - acc: 0.9667 - val_loss: 0.1491 - val_acc: 0.9667\n",
            "\n",
            "Test accuracy:\n",
            "0.9666666388511658\n",
            " 70%|███████   | 7/10 [08:55<03:46, 75.60s/it, best loss: -0.9666666388511658]"
          ],
          "name": "stdout"
        },
        {
          "output_type": "stream",
          "text": [
            "/content/temp_model.py:173: UserWarning: The `nb_epoch` argument in `fit` has been renamed `epochs`.\n",
            "  \n",
            "\n"
          ],
          "name": "stderr"
        },
        {
          "output_type": "stream",
          "text": [
            "Train on 6811 samples, validate on 6811 samples\n",
            "Epoch 1/10\n",
            " - 11s - loss: 0.1490 - acc: 0.9666 - val_loss: 0.1464 - val_acc: 0.9667\n",
            "\n",
            "Epoch 2/10\n",
            " - 7s - loss: 0.1486 - acc: 0.9667 - val_loss: 0.1464 - val_acc: 0.9667\n",
            "\n",
            "Epoch 3/10\n",
            " - 7s - loss: 0.1483 - acc: 0.9667 - val_loss: 0.1463 - val_acc: 0.9667\n",
            "\n",
            "Epoch 4/10\n",
            " - 7s - loss: 0.1482 - acc: 0.9667 - val_loss: 0.1463 - val_acc: 0.9667\n",
            "\n",
            "Epoch 5/10\n",
            " - 7s - loss: 0.1480 - acc: 0.9667 - val_loss: 0.1463 - val_acc: 0.9667\n",
            "\n",
            "Epoch 6/10\n",
            " - 7s - loss: 0.1478 - acc: 0.9667 - val_loss: 0.1463 - val_acc: 0.9667\n",
            "\n",
            "Epoch 7/10\n",
            " - 7s - loss: 0.1477 - acc: 0.9667 - val_loss: 0.1463 - val_acc: 0.9667\n",
            "\n",
            "Epoch 8/10\n",
            " - 7s - loss: 0.1476 - acc: 0.9667 - val_loss: 0.1463 - val_acc: 0.9667\n",
            "\n",
            "Epoch 9/10\n",
            " - 7s - loss: 0.1474 - acc: 0.9667 - val_loss: 0.1463 - val_acc: 0.9667\n",
            "\n",
            "Epoch 10/10\n",
            " - 7s - loss: 0.1473 - acc: 0.9667 - val_loss: 0.1463 - val_acc: 0.9667\n",
            "\n",
            "Test accuracy:\n",
            "0.9666666388511658\n",
            " 80%|████████  | 8/10 [10:09<02:30, 75.35s/it, best loss: -0.9666666388511658]"
          ],
          "name": "stdout"
        },
        {
          "output_type": "stream",
          "text": [
            "/content/temp_model.py:173: UserWarning: The `nb_epoch` argument in `fit` has been renamed `epochs`.\n",
            "  \n",
            "\n"
          ],
          "name": "stderr"
        },
        {
          "output_type": "stream",
          "text": [
            "Train on 6811 samples, validate on 6811 samples\n",
            "Epoch 1/10\n",
            " - 11s - loss: 0.1465 - acc: 0.9666 - val_loss: 0.1461 - val_acc: 0.9667\n",
            "\n",
            "Epoch 2/10\n",
            " - 7s - loss: 0.1463 - acc: 0.9667 - val_loss: 0.1461 - val_acc: 0.9667\n",
            "\n",
            "Epoch 3/10\n",
            " - 7s - loss: 0.1461 - acc: 0.9667 - val_loss: 0.1461 - val_acc: 0.9667\n",
            "\n",
            "Epoch 4/10\n",
            " - 7s - loss: 0.1461 - acc: 0.9667 - val_loss: 0.1461 - val_acc: 0.9667\n",
            "\n",
            "Epoch 5/10\n",
            " - 7s - loss: 0.1462 - acc: 0.9667 - val_loss: 0.1461 - val_acc: 0.9667\n",
            "\n",
            "Epoch 6/10\n",
            " - 7s - loss: 0.1461 - acc: 0.9667 - val_loss: 0.1461 - val_acc: 0.9667\n",
            "\n",
            "Epoch 7/10\n",
            " - 7s - loss: 0.1461 - acc: 0.9667 - val_loss: 0.1461 - val_acc: 0.9667\n",
            "\n",
            "Epoch 8/10\n",
            " - 7s - loss: 0.1461 - acc: 0.9667 - val_loss: 0.1461 - val_acc: 0.9667\n",
            "\n",
            "Epoch 9/10\n",
            " - 7s - loss: 0.1461 - acc: 0.9667 - val_loss: 0.1461 - val_acc: 0.9667\n",
            "\n",
            "Epoch 10/10\n",
            " - 7s - loss: 0.1461 - acc: 0.9667 - val_loss: 0.1461 - val_acc: 0.9667\n",
            "\n",
            "Test accuracy:\n",
            "0.9666666388511658\n",
            " 90%|█████████ | 9/10 [11:25<01:15, 75.57s/it, best loss: -0.9666666388511658]"
          ],
          "name": "stdout"
        },
        {
          "output_type": "stream",
          "text": [
            "/content/temp_model.py:173: UserWarning: The `nb_epoch` argument in `fit` has been renamed `epochs`.\n",
            "  \n",
            "\n"
          ],
          "name": "stderr"
        },
        {
          "output_type": "stream",
          "text": [
            "Train on 6811 samples, validate on 6811 samples\n",
            "Epoch 1/10\n",
            " - 12s - loss: 0.1451 - acc: 0.9667 - val_loss: 0.1477 - val_acc: 0.9667\n",
            "\n",
            "Epoch 2/10\n",
            " - 7s - loss: 0.1429 - acc: 0.9667 - val_loss: 0.1489 - val_acc: 0.9667\n",
            "\n",
            "Epoch 3/10\n",
            " - 7s - loss: 0.1418 - acc: 0.9667 - val_loss: 0.1492 - val_acc: 0.9667\n",
            "\n",
            "Epoch 4/10\n",
            " - 7s - loss: 0.1409 - acc: 0.9666 - val_loss: 0.1497 - val_acc: 0.9667\n",
            "\n",
            "Epoch 5/10\n",
            " - 7s - loss: 0.1402 - acc: 0.9667 - val_loss: 0.1503 - val_acc: 0.9667\n",
            "\n",
            "Epoch 6/10\n",
            " - 7s - loss: 0.1401 - acc: 0.9667 - val_loss: 0.1494 - val_acc: 0.9667\n",
            "\n",
            "Epoch 7/10\n",
            " - 7s - loss: 0.1394 - acc: 0.9667 - val_loss: 0.1552 - val_acc: 0.9667\n",
            "\n",
            "Epoch 8/10\n",
            " - 7s - loss: 0.1384 - acc: 0.9667 - val_loss: 0.1520 - val_acc: 0.9667\n",
            "\n",
            "Epoch 9/10\n",
            " - 7s - loss: 0.1379 - acc: 0.9667 - val_loss: 0.1589 - val_acc: 0.9667\n",
            "\n",
            "Epoch 10/10\n",
            " - 7s - loss: 0.1371 - acc: 0.9667 - val_loss: 0.1585 - val_acc: 0.9667\n",
            "\n",
            "Test accuracy:\n",
            "0.9666666388511658\n",
            "100%|██████████| 10/10 [12:48<00:00, 77.69s/it, best loss: -0.9666666388511658]\n"
          ],
          "name": "stdout"
        }
      ]
    },
    {
      "cell_type": "code",
      "metadata": {
        "id": "KvMAj8UbNBXa",
        "colab_type": "code",
        "outputId": "3af2b4f1-cc14-41a2-c8a4-1a6b4d85a608",
        "colab": {
          "base_uri": "https://localhost:8080/",
          "height": 136
        }
      },
      "source": [
        "best_run"
      ],
      "execution_count": 0,
      "outputs": [
        {
          "output_type": "execute_result",
          "data": {
            "text/plain": [
              "{'Dense': 2,\n",
              " 'Dense_1': 2,\n",
              " 'Dropout': 0.6108763092812357,\n",
              " 'Dropout_1': 0.7371698374615214,\n",
              " 'Dropout_2': 0.6517968154887782,\n",
              " 'batch_size': 1,\n",
              " 'optimizer': 2}"
            ]
          },
          "metadata": {
            "tags": []
          },
          "execution_count": 21
        }
      ]
    },
    {
      "cell_type": "code",
      "metadata": {
        "id": "VcRn1De9HVfQ",
        "colab_type": "code",
        "outputId": "c89afdae-6552-4c00-fe5f-1dc7f3ce1411",
        "colab": {
          "base_uri": "https://localhost:8080/",
          "height": 573
        }
      },
      "source": [
        "import matplotlib.pyplot as plt\n",
        "plt.plot(best_model.history.history['acc'])\n",
        "plt.plot(best_model.history.history['val_acc'])\n",
        "plt.title('model accuracy')\n",
        "plt.ylabel('accuracy')\n",
        "plt.xlabel('epoch')\n",
        "plt.legend(['train', 'test'], loc='upper left')\n",
        "plt.show()\n",
        "# summarize history for loss\n",
        "plt.plot(best_model.history.history['loss'])\n",
        "plt.plot(best_model.history.history['val_loss'])\n",
        "plt.title('model loss')\n",
        "plt.ylabel('loss')\n",
        "plt.xlabel('epoch')\n",
        "plt.legend(['train', 'test'], loc='upper left')\n",
        "plt.show()"
      ],
      "execution_count": 0,
      "outputs": [
        {
          "output_type": "display_data",
          "data": {
            "image/png": "[encoded data removed]",
            "text/plain": [
              "<Figure size 432x288 with 1 Axes>"
            ]
          },
          "metadata": {
            "tags": []
          }
        },
        {
          "output_type": "display_data",
          "data": {
            "image/png": "[encoded data removed]",
            "text/plain": [
              "<Figure size 432x288 with 1 Axes>"
            ]
          },
          "metadata": {
            "tags": []
          }
        }
      ]
    },
    {
      "cell_type": "code",
      "metadata": {
        "id": "gaKwU6ZRHb38",
        "colab_type": "code",
        "colab": {}
      },
      "source": [
        "import pickle\n",
        "os.mkdir('/content/drive/My Drive/Speech1/Models')\n",
        "filename = '/content/drive/My Drive/Speech1/Models/CNN_1D_model.sav'\n",
        "pickle.dump(best_model, open(filename, 'wb'))"
      ],
      "execution_count": 0,
      "outputs": []
    },
    {
      "cell_type": "code",
      "metadata": {
        "id": "zfVmqaPTIBOP",
        "colab_type": "code",
        "outputId": "785b431b-81d8-45b9-b798-69acc7edeebd",
        "colab": {
          "base_uri": "https://localhost:8080/",
          "height": 1000
        }
      },
      "source": [
        "best_run2d, best_model2d = optim.minimize(model=conv_2d_model,\n",
        "                                          data=data_2d,\n",
        "                                          max_evals=10,\n",
        "                                          algo=tpe.suggest,\n",
        "                                          notebook_name='parameteroptimization1', # This is important!\n",
        "                                          trials=Trials())"
      ],
      "execution_count": 0,
      "outputs": [
        {
          "output_type": "stream",
          "text": [
            ">>> Imports:\n",
            "#coding=utf-8\n",
            "\n",
            "from __future__ import print_function\n",
            "\n",
            "try:\n",
            "    import numpy as np\n",
            "except:\n",
            "    pass\n",
            "\n",
            "try:\n",
            "    from hyperopt import Trials, STATUS_OK, tpe\n",
            "except:\n",
            "    pass\n",
            "\n",
            "try:\n",
            "    from keras.datasets import mnist\n",
            "except:\n",
            "    pass\n",
            "\n",
            "try:\n",
            "    from keras.layers.core import Dense, Dropout, Activation\n",
            "except:\n",
            "    pass\n",
            "\n",
            "try:\n",
            "    from keras.models import Sequential\n",
            "except:\n",
            "    pass\n",
            "\n",
            "try:\n",
            "    from keras.utils import np_utils\n",
            "except:\n",
            "    pass\n",
            "\n",
            "try:\n",
            "    from keras.models import Sequential\n",
            "except:\n",
            "    pass\n",
            "\n",
            "try:\n",
            "    from keras.utils import to_categorical\n",
            "except:\n",
            "    pass\n",
            "\n",
            "try:\n",
            "    from keras import losses, models, optimizers\n",
            "except:\n",
            "    pass\n",
            "\n",
            "try:\n",
            "    from keras.layers import Dense, Conv2D, Flatten, MaxPooling2D, Dropout, Activation, GaussianNoise, BatchNormalization, LeakyReLU, AveragePooling2D\n",
            "except:\n",
            "    pass\n",
            "\n",
            "try:\n",
            "    from keras import regularizers, optimizers\n",
            "except:\n",
            "    pass\n",
            "\n",
            "try:\n",
            "    from keras.activations import relu, softmax\n",
            "except:\n",
            "    pass\n",
            "\n",
            "try:\n",
            "    from keras.layers import Input, GlobalMaxPool1D, MaxPool1D\n",
            "except:\n",
            "    pass\n",
            "\n",
            "try:\n",
            "    from keras.layers import Convolution1D\n",
            "except:\n",
            "    pass\n",
            "\n",
            "try:\n",
            "    from hyperas import optim\n",
            "except:\n",
            "    pass\n",
            "\n",
            "try:\n",
            "    from hyperas.distributions import choice, uniform\n",
            "except:\n",
            "    pass\n",
            "\n",
            "try:\n",
            "    import os\n",
            "except:\n",
            "    pass\n",
            "\n",
            "try:\n",
            "    from sklearn.model_selection import train_test_split\n",
            "except:\n",
            "    pass\n",
            "\n",
            "try:\n",
            "    from google.colab import drive\n",
            "except:\n",
            "    pass\n",
            "\n",
            "try:\n",
            "    from pydrive.auth import GoogleAuth\n",
            "except:\n",
            "    pass\n",
            "\n",
            "try:\n",
            "    from pydrive.drive import GoogleDrive\n",
            "except:\n",
            "    pass\n",
            "\n",
            "try:\n",
            "    from google.colab import auth\n",
            "except:\n",
            "    pass\n",
            "\n",
            "try:\n",
            "    from oauth2client.client import GoogleCredentials\n",
            "except:\n",
            "    pass\n",
            "\n",
            "try:\n",
            "    from shutil import copyfile\n",
            "except:\n",
            "    pass\n",
            "\n",
            "try:\n",
            "    import matplotlib.pyplot as plt\n",
            "except:\n",
            "    pass\n",
            "\n",
            "try:\n",
            "    import pickle\n",
            "except:\n",
            "    pass\n",
            "\n",
            "try:\n",
            "    import matplotlib.pyplot as plt\n",
            "except:\n",
            "    pass\n",
            "\n",
            ">>> Hyperas search space:\n",
            "\n",
            "def get_space():\n",
            "    return {\n",
            "        'Conv2D': hp.choice('Conv2D', [64, 128, 256]),\n",
            "        'kernel_size': hp.choice('kernel_size', [2, 3, 5]),\n",
            "        'Conv2D_1': hp.choice('Conv2D_1', [32, 64, 128]),\n",
            "        'Conv2D_2': hp.choice('Conv2D_2', [16, 32, 64]),\n",
            "        'optimizer': hp.choice('optimizer', ['rmsprop', 'adam', 'sgd']),\n",
            "        'batch_size': hp.choice('batch_size', [64, 128]),\n",
            "    }\n",
            "\n",
            ">>> Data\n",
            "  1: \n",
            "  2: X_train = np.load('NM_train.npy')\n",
            "  3: Y_train = np.load('NMy_train1.npy')\n",
            "  4: X_test = np.load('NM_test.npy')\n",
            "  5: Y_test = np.load('NMy_test1.npy')\n",
            "  6: X_test = X_test[0:5450]\n",
            "  7: Y_test = Y_test[0:5450]\n",
            "  8: \n",
            "  9: \n",
            " 10: \n",
            ">>> Resulting replaced keras model:\n",
            "\n",
            "   1: def keras_fmin_fnct(space):\n",
            "   2: \n",
            "   3: \n",
            "   4:     model = Sequential()\n",
            "   5:     #add model layers\n",
            "   6:     model.add(Conv2D(space['Conv2D'], kernel_size=space['kernel_size'], activation='relu', input_shape=(128 ,87,1)))\n",
            "   7:     model.add(BatchNormalization())\n",
            "   8:     model.add(Conv2D(space['Conv2D_1'], kernel_size=3, activation= 'relu'))\n",
            "   9:     model.add(BatchNormalization())\n",
            "  10:     model.add(Conv2D(space['Conv2D_2'], kernel_size=3, activation= 'relu'))\n",
            "  11:     model.add(BatchNormalization())\n",
            "  12:     model.add(Flatten())\n",
            "  13:     model.add(Dense(30, activation='softmax'))\n",
            "  14: \n",
            "  15:     #compile model using accuracy to measure model performance\n",
            "  16: \n",
            "  17:     model.compile(loss='binary_crossentropy',\n",
            "  18:                   optimizer=space['optimizer'],\n",
            "  19:                   metrics=['accuracy'])\n",
            "  20: \n",
            "  21:     model.fit(X_train, Y_train,\n",
            "  22:               batch_size=space['batch_size'],\n",
            "  23:               nb_epoch=10,\n",
            "  24:               verbose=2,\n",
            "  25:               validation_data=(X_test, Y_test))\n",
            "  26:     score, acc = model.evaluate(X_test, Y_test, verbose=0)\n",
            "  27:     print('Test accuracy:', acc)\n",
            "  28:     return {'loss': -acc, 'status': STATUS_OK, 'model': model}\n",
            "  29: \n",
            "  0%|          | 0/10 [00:00<?, ?it/s, best loss: ?]WARNING:tensorflow:From /usr/local/lib/python3.6/dist-packages/keras/backend/tensorflow_backend.py:66: The name tf.get_default_graph is deprecated. Please use tf.compat.v1.get_default_graph instead.\n",
            "\n",
            "WARNING:tensorflow:From /usr/local/lib/python3.6/dist-packages/keras/backend/tensorflow_backend.py:541: The name tf.placeholder is deprecated. Please use tf.compat.v1.placeholder instead.\n",
            "\n",
            "WARNING:tensorflow:From /usr/local/lib/python3.6/dist-packages/keras/backend/tensorflow_backend.py:4432: The name tf.random_uniform is deprecated. Please use tf.random.uniform instead.\n",
            "\n",
            "WARNING:tensorflow:From /usr/local/lib/python3.6/dist-packages/keras/backend/tensorflow_backend.py:190: The name tf.get_default_session is deprecated. Please use tf.compat.v1.get_default_session instead.\n",
            "\n",
            "WARNING:tensorflow:From /usr/local/lib/python3.6/dist-packages/keras/backend/tensorflow_backend.py:197: The name tf.ConfigProto is deprecated. Please use tf.compat.v1.ConfigProto instead.\n",
            "\n",
            "WARNING:tensorflow:From /usr/local/lib/python3.6/dist-packages/keras/backend/tensorflow_backend.py:2041: The name tf.nn.fused_batch_norm is deprecated. Please use tf.compat.v1.nn.fused_batch_norm instead.\n",
            "\n",
            "WARNING:tensorflow:From /usr/local/lib/python3.6/dist-packages/keras/optimizers.py:793: The name tf.train.Optimizer is deprecated. Please use tf.compat.v1.train.Optimizer instead.\n",
            "\n",
            "WARNING:tensorflow:From /usr/local/lib/python3.6/dist-packages/tensorflow/python/ops/nn_impl.py:180: add_dispatch_support.<locals>.wrapper (from tensorflow.python.ops.array_ops) is deprecated and will be removed in a future version.\n",
            "Instructions for updating:\n",
            "Use tf.where in 2.0, which has the same broadcast rule as np.where\n"
          ],
          "name": "stdout"
        },
        {
          "output_type": "stream",
          "text": [
            "/content/temp_model.py:173: UserWarning: The `nb_epoch` argument in `fit` has been renamed `epochs`.\n",
            "\n"
          ],
          "name": "stderr"
        },
        {
          "output_type": "stream",
          "text": [
            "Train on 8173 samples, validate on 5450 samples\n",
            "Epoch 1/10\n",
            " - 69s - loss: 0.9395 - acc: 0.9374 - val_loss: 1.0324 - val_acc: 0.9356\n",
            "\n",
            "Epoch 2/10\n",
            " - 62s - loss: 0.6757 - acc: 0.9455 - val_loss: 0.1348 - val_acc: 0.9656\n",
            "\n",
            "Epoch 3/10\n",
            " - 62s - loss: 0.0900 - acc: 0.9738 - val_loss: 0.1029 - val_acc: 0.9697\n",
            "\n",
            "Epoch 4/10\n",
            " - 62s - loss: 0.0247 - acc: 0.9932 - val_loss: 0.0942 - val_acc: 0.9714\n",
            "\n",
            "Epoch 5/10\n",
            " - 62s - loss: 0.0066 - acc: 0.9991 - val_loss: 0.0913 - val_acc: 0.9719\n",
            "\n",
            "Epoch 6/10\n",
            " - 62s - loss: 0.0029 - acc: 0.9999 - val_loss: 0.0904 - val_acc: 0.9724\n",
            "\n",
            "Epoch 7/10\n",
            " - 62s - loss: 0.0019 - acc: 1.0000 - val_loss: 0.0898 - val_acc: 0.9725\n",
            "\n",
            "Epoch 8/10\n",
            " - 62s - loss: 0.0015 - acc: 1.0000 - val_loss: 0.0894 - val_acc: 0.9727\n",
            "\n",
            "Epoch 9/10\n",
            " - 62s - loss: 0.0012 - acc: 1.0000 - val_loss: 0.0891 - val_acc: 0.9728\n",
            "\n",
            "Epoch 10/10\n",
            " - 62s - loss: 0.0010 - acc: 1.0000 - val_loss: 0.0889 - val_acc: 0.9728\n",
            "\n",
            "Test accuracy:\n",
            "0.9728379345596383\n",
            " 10%|█         | 1/10 [10:43<1:36:29, 643.30s/it, best loss: -0.9728379345596383]"
          ],
          "name": "stdout"
        },
        {
          "output_type": "stream",
          "text": [
            "/content/temp_model.py:173: UserWarning: The `nb_epoch` argument in `fit` has been renamed `epochs`.\n",
            "\n"
          ],
          "name": "stderr"
        },
        {
          "output_type": "stream",
          "text": [
            "Train on 8173 samples, validate on 5450 samples\n",
            "Epoch 1/10\n",
            " - 79s - loss: 0.9937 - acc: 0.9362 - val_loss: 0.9829 - val_acc: 0.9357\n",
            "\n",
            "Epoch 2/10\n",
            " - 67s - loss: 1.0095 - acc: 0.9355 - val_loss: 1.0188 - val_acc: 0.9356\n",
            "\n",
            "Epoch 3/10\n",
            " - 67s - loss: 1.0105 - acc: 0.9359 - val_loss: 1.0309 - val_acc: 0.9357\n",
            "\n",
            "Epoch 4/10\n",
            " - 67s - loss: 1.0228 - acc: 0.9356 - val_loss: 1.0045 - val_acc: 0.9355\n",
            "\n",
            "Epoch 5/10\n",
            " - 67s - loss: 1.0196 - acc: 0.9357 - val_loss: 1.0174 - val_acc: 0.9360\n",
            "\n",
            "Epoch 6/10\n",
            " - 67s - loss: 1.0199 - acc: 0.9357 - val_loss: 1.0207 - val_acc: 0.9358\n",
            "\n",
            "Epoch 7/10\n",
            " - 67s - loss: 1.0160 - acc: 0.9357 - val_loss: 1.0177 - val_acc: 0.9359\n",
            "\n",
            "Epoch 8/10\n",
            " - 67s - loss: 1.0007 - acc: 0.9360 - val_loss: 0.9923 - val_acc: 0.9359\n",
            "\n",
            "Epoch 9/10\n",
            " - 67s - loss: 0.9889 - acc: 0.9360 - val_loss: 0.9716 - val_acc: 0.9360\n",
            "\n",
            "Epoch 10/10\n",
            " - 67s - loss: 0.9726 - acc: 0.9366 - val_loss: 0.9854 - val_acc: 0.9368\n",
            "\n",
            "Test accuracy:\n",
            "0.9368073571493867\n",
            " 20%|██        | 2/10 [22:24<1:28:04, 660.53s/it, best loss: -0.9728379345596383]"
          ],
          "name": "stdout"
        },
        {
          "output_type": "stream",
          "text": [
            "/content/temp_model.py:173: UserWarning: The `nb_epoch` argument in `fit` has been renamed `epochs`.\n",
            "\n"
          ],
          "name": "stderr"
        },
        {
          "output_type": "stream",
          "text": [
            "Train on 8173 samples, validate on 5450 samples\n",
            "Epoch 1/10\n",
            " - 81s - loss: 0.9992 - acc: 0.9358 - val_loss: 1.0296 - val_acc: 0.9358\n",
            "\n",
            "Epoch 2/10\n",
            " - 74s - loss: 1.0339 - acc: 0.9355 - val_loss: 1.0271 - val_acc: 0.9355\n",
            "\n",
            "Epoch 3/10\n",
            " - 74s - loss: 1.0342 - acc: 0.9355 - val_loss: 1.0296 - val_acc: 0.9358\n",
            "\n",
            "Epoch 4/10\n",
            " - 74s - loss: 1.0299 - acc: 0.9355 - val_loss: 1.0318 - val_acc: 0.9356\n",
            "\n",
            "Epoch 5/10\n",
            " - 74s - loss: 1.0347 - acc: 0.9355 - val_loss: 1.0318 - val_acc: 0.9356\n",
            "\n",
            "Epoch 6/10\n",
            " - 74s - loss: 1.0347 - acc: 0.9355 - val_loss: 1.0318 - val_acc: 0.9356\n",
            "\n",
            "Epoch 7/10\n",
            " - 74s - loss: 1.0347 - acc: 0.9355 - val_loss: 1.0318 - val_acc: 0.9356\n",
            "\n",
            "Epoch 8/10\n",
            " - 74s - loss: 1.0347 - acc: 0.9355 - val_loss: 1.0318 - val_acc: 0.9356\n",
            "\n",
            "Epoch 9/10\n",
            " - 74s - loss: 1.0347 - acc: 0.9355 - val_loss: 1.0318 - val_acc: 0.9356\n",
            "\n",
            "Epoch 10/10\n",
            " - 74s - loss: 1.0347 - acc: 0.9355 - val_loss: 1.0318 - val_acc: 0.9356\n",
            "\n",
            "Test accuracy:\n",
            "0.9356330431929422\n",
            " 30%|███       | 3/10 [35:05<1:20:36, 690.88s/it, best loss: -0.9728379345596383]"
          ],
          "name": "stdout"
        },
        {
          "output_type": "stream",
          "text": [
            "/content/temp_model.py:173: UserWarning: The `nb_epoch` argument in `fit` has been renamed `epochs`.\n",
            "\n"
          ],
          "name": "stderr"
        },
        {
          "output_type": "stream",
          "text": [
            "Train on 8173 samples, validate on 5450 samples\n",
            "Epoch 1/10\n",
            " - 63s - loss: 0.9849 - acc: 0.9361 - val_loss: 1.0371 - val_acc: 0.9353\n",
            "\n",
            "Epoch 2/10\n",
            " - 53s - loss: 1.0306 - acc: 0.9357 - val_loss: 1.0371 - val_acc: 0.9353\n",
            "\n",
            "Epoch 3/10\n",
            " - 53s - loss: 1.0306 - acc: 0.9357 - val_loss: 1.0371 - val_acc: 0.9353\n",
            "\n",
            "Epoch 4/10\n",
            " - 53s - loss: 1.0306 - acc: 0.9357 - val_loss: 1.0371 - val_acc: 0.9353\n",
            "\n",
            "Epoch 5/10\n",
            " - 53s - loss: 1.0306 - acc: 0.9357 - val_loss: 1.0371 - val_acc: 0.9353\n",
            "\n",
            "Epoch 6/10\n",
            " - 53s - loss: 1.0306 - acc: 0.9357 - val_loss: 1.0371 - val_acc: 0.9353\n",
            "\n",
            "Epoch 7/10\n",
            " - 53s - loss: 1.0306 - acc: 0.9357 - val_loss: 1.0371 - val_acc: 0.9353\n",
            "\n",
            "Epoch 8/10\n",
            " - 53s - loss: 1.0306 - acc: 0.9357 - val_loss: 1.0371 - val_acc: 0.9353\n",
            "\n",
            "Epoch 9/10\n",
            " - 53s - loss: 1.0306 - acc: 0.9357 - val_loss: 1.0371 - val_acc: 0.9353\n",
            "\n",
            "Epoch 10/10\n",
            " - 53s - loss: 1.0306 - acc: 0.9357 - val_loss: 1.0371 - val_acc: 0.9353\n",
            "\n",
            "Test accuracy:\n",
            "0.9353027681035733\n",
            " 40%|████      | 4/10 [44:19<1:04:59, 649.85s/it, best loss: -0.9728379345596383]"
          ],
          "name": "stdout"
        },
        {
          "output_type": "stream",
          "text": [
            "/content/temp_model.py:173: UserWarning: The `nb_epoch` argument in `fit` has been renamed `epochs`.\n",
            "\n"
          ],
          "name": "stderr"
        },
        {
          "output_type": "stream",
          "text": [
            "Train on 8173 samples, validate on 5450 samples\n",
            "Epoch 1/10\n",
            " - 105s - loss: 1.0180 - acc: 0.9360 - val_loss: 1.0374 - val_acc: 0.9353\n",
            "\n",
            "Epoch 2/10\n",
            " - 94s - loss: 1.0311 - acc: 0.9355 - val_loss: 1.0295 - val_acc: 0.9356\n",
            "\n",
            "Epoch 3/10\n",
            " - 94s - loss: 1.0293 - acc: 0.9357 - val_loss: 1.0221 - val_acc: 0.9355\n",
            "\n",
            "Epoch 4/10\n",
            " - 93s - loss: 1.0325 - acc: 0.9356 - val_loss: 1.0348 - val_acc: 0.9354\n",
            "\n",
            "Epoch 5/10\n",
            " - 93s - loss: 1.0335 - acc: 0.9355 - val_loss: 1.0348 - val_acc: 0.9354\n",
            "\n",
            "Epoch 6/10\n",
            " - 93s - loss: 1.0336 - acc: 0.9355 - val_loss: 1.0348 - val_acc: 0.9354\n",
            "\n",
            "Epoch 7/10\n",
            " - 93s - loss: 1.0336 - acc: 0.9355 - val_loss: 1.0348 - val_acc: 0.9354\n",
            "\n",
            "Epoch 8/10\n",
            " - 93s - loss: 1.0336 - acc: 0.9355 - val_loss: 1.0348 - val_acc: 0.9354\n",
            "\n",
            "Epoch 9/10\n",
            " - 93s - loss: 1.0336 - acc: 0.9355 - val_loss: 1.0348 - val_acc: 0.9354\n",
            "\n",
            "Epoch 10/10\n",
            " - 93s - loss: 1.0336 - acc: 0.9355 - val_loss: 1.0348 - val_acc: 0.9354\n",
            "\n",
            "Test accuracy:\n",
            "0.9354495569981566\n",
            " 50%|█████     | 5/10 [1:00:24<1:02:01, 744.22s/it, best loss: -0.9728379345596383]"
          ],
          "name": "stdout"
        },
        {
          "output_type": "stream",
          "text": [
            "/content/temp_model.py:173: UserWarning: The `nb_epoch` argument in `fit` has been renamed `epochs`.\n",
            "\n"
          ],
          "name": "stderr"
        },
        {
          "output_type": "stream",
          "text": [
            "Train on 8173 samples, validate on 5450 samples\n",
            "Epoch 1/10\n",
            " - 54s - loss: 0.2111 - acc: 0.9616 - val_loss: 0.1755 - val_acc: 0.9658\n",
            "\n",
            "Epoch 2/10\n",
            " - 50s - loss: 0.1236 - acc: 0.9792 - val_loss: 0.1603 - val_acc: 0.9678\n",
            "\n",
            "Epoch 3/10\n",
            " - 50s - loss: 0.0790 - acc: 0.9906 - val_loss: 0.1254 - val_acc: 0.9699\n",
            "\n",
            "Epoch 4/10\n",
            " - 50s - loss: 0.0498 - acc: 0.9958 - val_loss: 0.1144 - val_acc: 0.9730\n",
            "\n",
            "Epoch 5/10\n",
            " - 50s - loss: 0.0447 - acc: 0.9972 - val_loss: 0.1132 - val_acc: 0.9732\n",
            "\n",
            "Epoch 6/10\n",
            " - 50s - loss: 0.0379 - acc: 0.9976 - val_loss: 0.0981 - val_acc: 0.9738\n",
            "\n",
            "Epoch 7/10\n",
            " - 50s - loss: 0.0246 - acc: 0.9983 - val_loss: 0.0977 - val_acc: 0.9740\n",
            "\n",
            "Epoch 8/10\n",
            " - 50s - loss: 0.0230 - acc: 0.9987 - val_loss: 0.0962 - val_acc: 0.9744\n",
            "\n",
            "Epoch 9/10\n",
            " - 50s - loss: 0.0225 - acc: 0.9987 - val_loss: 0.0956 - val_acc: 0.9747\n",
            "\n",
            "Epoch 10/10\n",
            " - 50s - loss: 0.0222 - acc: 0.9988 - val_loss: 0.0954 - val_acc: 0.9748\n",
            "\n",
            "Test accuracy:\n",
            "0.9748073542446172\n",
            " 60%|██████    | 6/10 [1:08:59<45:01, 675.46s/it, best loss: -0.9748073542446172]  "
          ],
          "name": "stdout"
        },
        {
          "output_type": "stream",
          "text": [
            "/content/temp_model.py:173: UserWarning: The `nb_epoch` argument in `fit` has been renamed `epochs`.\n",
            "\n"
          ],
          "name": "stderr"
        },
        {
          "output_type": "stream",
          "text": [
            "Train on 8173 samples, validate on 5450 samples\n",
            "Epoch 1/10\n",
            " - 57s - loss: 1.0243 - acc: 0.9357 - val_loss: 1.0328 - val_acc: 0.9356\n",
            "\n",
            "Epoch 2/10\n",
            " - 53s - loss: 1.0313 - acc: 0.9357 - val_loss: 1.0326 - val_acc: 0.9356\n",
            "\n",
            "Epoch 3/10\n",
            " - 53s - loss: 1.0313 - acc: 0.9357 - val_loss: 1.0325 - val_acc: 0.9356\n",
            "\n",
            "Epoch 4/10\n",
            " - 53s - loss: 1.0309 - acc: 0.9357 - val_loss: 1.0328 - val_acc: 0.9356\n",
            "\n",
            "Epoch 5/10\n",
            " - 53s - loss: 1.0311 - acc: 0.9357 - val_loss: 1.0324 - val_acc: 0.9356\n",
            "\n",
            "Epoch 6/10\n",
            " - 53s - loss: 1.0307 - acc: 0.9357 - val_loss: 1.0328 - val_acc: 0.9356\n",
            "\n",
            "Epoch 7/10\n",
            " - 53s - loss: 1.0311 - acc: 0.9357 - val_loss: 1.0328 - val_acc: 0.9356\n",
            "\n",
            "Epoch 8/10\n",
            " - 53s - loss: 1.0313 - acc: 0.9357 - val_loss: 1.0328 - val_acc: 0.9356\n",
            "\n",
            "Epoch 9/10\n",
            " - 53s - loss: 1.0313 - acc: 0.9357 - val_loss: 1.0328 - val_acc: 0.9356\n",
            "\n",
            "Epoch 10/10\n",
            " - 53s - loss: 1.0313 - acc: 0.9357 - val_loss: 1.0328 - val_acc: 0.9356\n",
            "\n",
            "Test accuracy:\n",
            "0.9355718806905484\n",
            " 70%|███████   | 7/10 [1:18:08<31:52, 637.47s/it, best loss: -0.9748073542446172]"
          ],
          "name": "stdout"
        },
        {
          "output_type": "stream",
          "text": [
            "/content/temp_model.py:173: UserWarning: The `nb_epoch` argument in `fit` has been renamed `epochs`.\n",
            "\n"
          ],
          "name": "stderr"
        },
        {
          "output_type": "stream",
          "text": [
            "Train on 8173 samples, validate on 5450 samples\n",
            "Epoch 1/10\n",
            " - 143s - loss: 0.1376 - acc: 0.9663 - val_loss: 0.1178 - val_acc: 0.9679\n",
            "\n",
            "Epoch 2/10\n",
            " - 129s - loss: 0.0931 - acc: 0.9719 - val_loss: 0.1026 - val_acc: 0.9697\n",
            "\n",
            "Epoch 3/10\n",
            " - 129s - loss: 0.0713 - acc: 0.9774 - val_loss: 0.0933 - val_acc: 0.9714\n",
            "\n",
            "Epoch 4/10\n",
            " - 129s - loss: 0.0561 - acc: 0.9822 - val_loss: 0.0880 - val_acc: 0.9729\n",
            "\n",
            "Epoch 5/10\n",
            " - 129s - loss: 0.0443 - acc: 0.9864 - val_loss: 0.0868 - val_acc: 0.9731\n",
            "\n",
            "Epoch 6/10\n",
            " - 129s - loss: 0.0352 - acc: 0.9900 - val_loss: 0.0836 - val_acc: 0.9737\n",
            "\n",
            "Epoch 7/10\n",
            " - 129s - loss: 0.0279 - acc: 0.9929 - val_loss: 0.0820 - val_acc: 0.9742\n",
            "\n",
            "Epoch 8/10\n",
            " - 129s - loss: 0.0222 - acc: 0.9950 - val_loss: 0.0826 - val_acc: 0.9741\n",
            "\n",
            "Epoch 9/10\n",
            " - 129s - loss: 0.0178 - acc: 0.9964 - val_loss: 0.0812 - val_acc: 0.9742\n",
            "\n",
            "Epoch 10/10\n",
            " - 129s - loss: 0.0142 - acc: 0.9976 - val_loss: 0.0810 - val_acc: 0.9742\n",
            "\n",
            "Test accuracy:\n",
            "0.9742140797956275\n",
            " 80%|████████  | 8/10 [1:40:18<28:10, 845.32s/it, best loss: -0.9748073542446172]"
          ],
          "name": "stdout"
        },
        {
          "output_type": "stream",
          "text": [
            "/content/temp_model.py:173: UserWarning: The `nb_epoch` argument in `fit` has been renamed `epochs`.\n",
            "\n"
          ],
          "name": "stderr"
        },
        {
          "output_type": "stream",
          "text": [
            "Train on 8173 samples, validate on 5450 samples\n",
            "Epoch 1/10\n",
            " - 77s - loss: 1.0258 - acc: 0.9356 - val_loss: 1.0271 - val_acc: 0.9359\n",
            "\n",
            "Epoch 2/10\n",
            " - 71s - loss: 1.0315 - acc: 0.9354 - val_loss: 1.0102 - val_acc: 0.9360\n",
            "\n",
            "Epoch 3/10\n",
            " - 72s - loss: 1.0221 - acc: 0.9357 - val_loss: 1.0232 - val_acc: 0.9357\n",
            "\n",
            "Epoch 4/10\n",
            " - 72s - loss: 1.0254 - acc: 0.9356 - val_loss: 1.0211 - val_acc: 0.9358\n",
            "\n",
            "Epoch 5/10\n",
            " - 71s - loss: 1.0248 - acc: 0.9357 - val_loss: 1.0256 - val_acc: 0.9358\n",
            "\n",
            "Epoch 6/10\n",
            " - 71s - loss: 1.0296 - acc: 0.9357 - val_loss: 1.0249 - val_acc: 0.9360\n",
            "\n",
            "Epoch 7/10\n",
            " - 71s - loss: 1.0295 - acc: 0.9357 - val_loss: 1.0202 - val_acc: 0.9363\n",
            "\n",
            "Epoch 8/10\n",
            " - 71s - loss: 1.0228 - acc: 0.9361 - val_loss: 1.0214 - val_acc: 0.9361\n",
            "\n",
            "Epoch 9/10\n",
            " - 71s - loss: 1.0259 - acc: 0.9359 - val_loss: 1.0198 - val_acc: 0.9363\n",
            "\n",
            "Epoch 10/10\n",
            " - 71s - loss: 1.0260 - acc: 0.9359 - val_loss: 1.0188 - val_acc: 0.9364\n",
            "\n",
            "Test accuracy:\n",
            "0.9363547576676815\n",
            " 90%|█████████ | 9/10 [1:52:31<13:31, 811.54s/it, best loss: -0.9748073542446172]"
          ],
          "name": "stdout"
        },
        {
          "output_type": "stream",
          "text": [
            "/content/temp_model.py:173: UserWarning: The `nb_epoch` argument in `fit` has been renamed `epochs`.\n",
            "\n"
          ],
          "name": "stderr"
        },
        {
          "output_type": "stream",
          "text": [
            "Train on 8173 samples, validate on 5450 samples\n",
            "Epoch 1/10\n",
            " - 80s - loss: 0.9890 - acc: 0.9361 - val_loss: 1.0297 - val_acc: 0.9358\n",
            "\n",
            "Epoch 2/10\n",
            " - 71s - loss: 1.0336 - acc: 0.9355 - val_loss: 1.0297 - val_acc: 0.9358\n",
            "\n",
            "Epoch 3/10\n",
            " - 71s - loss: 1.0336 - acc: 0.9355 - val_loss: 1.0297 - val_acc: 0.9358\n",
            "\n",
            "Epoch 4/10\n",
            " - 71s - loss: 1.0336 - acc: 0.9355 - val_loss: 1.0297 - val_acc: 0.9358\n",
            "\n",
            "Epoch 5/10\n",
            " - 71s - loss: 1.0336 - acc: 0.9355 - val_loss: 1.0297 - val_acc: 0.9358\n",
            "\n",
            "Epoch 6/10\n",
            " - 71s - loss: 1.0336 - acc: 0.9355 - val_loss: 1.0297 - val_acc: 0.9358\n",
            "\n",
            "Epoch 7/10\n",
            " - 71s - loss: 1.0336 - acc: 0.9355 - val_loss: 1.0297 - val_acc: 0.9358\n",
            "\n",
            "Epoch 8/10\n",
            " - 71s - loss: 1.0336 - acc: 0.9355 - val_loss: 1.0297 - val_acc: 0.9358\n",
            "\n",
            "Epoch 9/10\n",
            " - 71s - loss: 1.0336 - acc: 0.9355 - val_loss: 1.0297 - val_acc: 0.9358\n",
            "\n",
            "Epoch 10/10\n",
            " - 71s - loss: 1.0336 - acc: 0.9355 - val_loss: 1.0297 - val_acc: 0.9358\n",
            "\n",
            "Test accuracy:\n",
            "0.9357676005144732\n",
            "100%|██████████| 10/10 [2:04:49<00:00, 789.56s/it, best loss: -0.9748073542446172]\n"
          ],
          "name": "stdout"
        }
      ]
    },
    {
      "cell_type": "code",
      "metadata": {
        "id": "HiurzkQ8SWpP",
        "colab_type": "code",
        "outputId": "f5717338-cb2a-4256-cf8a-8b0173c7d2a8",
        "colab": {
          "base_uri": "https://localhost:8080/",
          "height": 573
        }
      },
      "source": [
        "import matplotlib.pyplot as plt\n",
        "plt.plot(best_model2d.history.history['acc'])\n",
        "plt.plot(best_model2d.history.history['val_acc'])\n",
        "plt.title('model accuracy')\n",
        "plt.ylabel('accuracy')\n",
        "plt.xlabel('epoch')\n",
        "plt.legend(['train', 'test'], loc='upper left')\n",
        "plt.show()\n",
        "# summarize history for loss\n",
        "plt.plot(best_model2d.history.history['loss'])\n",
        "plt.plot(best_model2d.history.history['val_loss'])\n",
        "plt.title('model loss')\n",
        "plt.ylabel('loss')\n",
        "plt.xlabel('epoch')\n",
        "plt.legend(['train', 'test'], loc='upper left')\n",
        "plt.show()"
      ],
      "execution_count": 0,
      "outputs": [
        {
          "output_type": "display_data",
          "data": {
            "image/png": "[encoded data removed]",
            "text/plain": [
              "<Figure size 432x288 with 1 Axes>"
            ]
          },
          "metadata": {
            "tags": []
          }
        },
        {
          "output_type": "display_data",
          "data": {
            "image/png": "[encoded data removed]",
            "text/plain": [
              "<Figure size 432x288 with 1 Axes>"
            ]
          },
          "metadata": {
            "tags": []
          }
        }
      ]
    },
    {
      "cell_type": "code",
      "metadata": {
        "id": "KVwAZDiRX-Xq",
        "colab_type": "code",
        "outputId": "540053cf-220f-4407-bf17-fb3258ebbf04",
        "colab": {
          "base_uri": "https://localhost:8080/",
          "height": 123
        }
      },
      "source": [
        "best_run2d"
      ],
      "execution_count": 0,
      "outputs": [
        {
          "output_type": "execute_result",
          "data": {
            "text/plain": [
              "{'Conv2D': 1,\n",
              " 'Conv2D_1': 0,\n",
              " 'Conv2D_2': 2,\n",
              " 'batch_size': 0,\n",
              " 'kernel_size': 2,\n",
              " 'optimizer': 2}"
            ]
          },
          "metadata": {
            "tags": []
          },
          "execution_count": 13
        }
      ]
    },
    {
      "cell_type": "code",
      "metadata": {
        "id": "Sg3j0IRcchES",
        "colab_type": "code",
        "colab": {}
      },
      "source": [
        "import pickle\n",
        "filename = '/content/drive/My Drive/Speech1/Models/CNN_2D_model.sav'\n",
        "pickle.dump(best_model2d, open(filename, 'wb'))"
      ],
      "execution_count": 0,
      "outputs": []
    },
    {
      "cell_type": "code",
      "metadata": {
        "id": "wOnkO1p8dIlE",
        "colab_type": "code",
        "outputId": "d1056dfb-a7db-4440-f66a-3c6a17e05ab5",
        "colab": {
          "base_uri": "https://localhost:8080/",
          "height": 34
        }
      },
      "source": [
        "def solvethis(a,b):\n",
        "  return a+b\n",
        "\n",
        "s = solvethis(2,3)\n",
        "print(s)"
      ],
      "execution_count": 0,
      "outputs": [
        {
          "output_type": "stream",
          "text": [
            "5\n"
          ],
          "name": "stdout"
        }
      ]
    },
    {
      "cell_type": "code",
      "metadata": {
        "id": "U969QlXdBpFx",
        "colab_type": "code",
        "colab": {}
      },
      "source": [
        ""
      ],
      "execution_count": 0,
      "outputs": []
    }
  ]
}